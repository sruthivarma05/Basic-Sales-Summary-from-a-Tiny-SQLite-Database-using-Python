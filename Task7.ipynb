{
 "cells": [
  {
   "cell_type": "code",
   "execution_count": 8,
   "id": "0db4d4d8-ab95-4f78-b7ae-53c60e224629",
   "metadata": {},
   "outputs": [],
   "source": [
    "#import sql and connect to new database\n",
    "\n",
    "import sqlite3\n",
    "import pandas as pd\n",
    "import matplotlib.pyplot as plt\n",
    "\n",
    "conn = sqlite3.connect(\"sales_data.db\")\n",
    "cursor = conn.cursor()"
   ]
  },
  {
   "cell_type": "code",
   "execution_count": 9,
   "id": "1f9930e9-0f6b-4e62-8ddf-38e76ca4bf98",
   "metadata": {},
   "outputs": [
    {
     "data": {
      "text/plain": [
       "<sqlite3.Cursor at 0x13d6cb240>"
      ]
     },
     "execution_count": 9,
     "metadata": {},
     "output_type": "execute_result"
    }
   ],
   "source": [
    "#Create table\n",
    "\n",
    "cursor.execute(\"\"\"\n",
    "CREATE TABLE IF NOT EXISTS sales (\n",
    "    id INTEGER PRIMARY KEY AUTOINCREMENT,\n",
    "    product TEXT,\n",
    "    quantity INTEGER,\n",
    "    price REAL\n",
    ")\n",
    "\"\"\")"
   ]
  },
  {
   "cell_type": "code",
   "execution_count": 10,
   "id": "50e143aa-e915-46e3-9281-3efbe45b5cb3",
   "metadata": {},
   "outputs": [],
   "source": [
    "#Specify data\n",
    "\n",
    "sample_data = [\n",
    "    (\"Toaster\", 5, 25.0),\n",
    "    (\"Coffee mug\", 12, 8.0),\n",
    "    (\"Air fryer\", 7, 15.0),\n",
    "    (\"Pillow\", 10, 12.0),\n",
    "    (\"Helmet\", 6, 20.0),\n",
    "]"
   ]
  },
  {
   "cell_type": "code",
   "execution_count": 11,
   "id": "751be395-c9b1-4b38-a3c3-a358ed7b4952",
   "metadata": {},
   "outputs": [
    {
     "data": {
      "text/plain": [
       "<sqlite3.Cursor at 0x13d6cb240>"
      ]
     },
     "execution_count": 11,
     "metadata": {},
     "output_type": "execute_result"
    }
   ],
   "source": [
    "# Insert the data\n",
    "\n",
    "cursor.executemany(\"INSERT INTO sales (product, quantity, price) VALUES (?, ?, ?)\", sample_data)"
   ]
  },
  {
   "cell_type": "code",
   "execution_count": 12,
   "id": "86ce9172-3b3f-4b6b-bea8-0211e5cdab56",
   "metadata": {},
   "outputs": [
    {
     "name": "stdout",
     "output_type": "stream",
     "text": [
      "Database and table created.\n"
     ]
    }
   ],
   "source": [
    "conn.commit()\n",
    "conn.close()\n",
    "\n",
    "print(\"Database and table created.\")"
   ]
  },
  {
   "cell_type": "code",
   "execution_count": 13,
   "id": "a1e2dc1b-8490-440a-a5c3-56a96011f9ec",
   "metadata": {},
   "outputs": [],
   "source": [
    "#Connect again.\n",
    "\n",
    "conn = sqlite3.connect(\"sales_data.db\")"
   ]
  },
  {
   "cell_type": "code",
   "execution_count": 14,
   "id": "ae54ab16-2149-4609-9138-0873e8c5bbdc",
   "metadata": {},
   "outputs": [],
   "source": [
    "#SQL query for total quantity and revenue per product\n",
    "\n",
    "query = \"\"\"\n",
    "SELECT \n",
    "    product, \n",
    "    SUM(quantity) AS total_qty, \n",
    "    SUM(quantity * price) AS revenue\n",
    "FROM sales\n",
    "GROUP BY product\n",
    "\"\"\""
   ]
  },
  {
   "cell_type": "code",
   "execution_count": 16,
   "id": "7b109345-6c73-433f-ae86-80f8fe82a5ed",
   "metadata": {},
   "outputs": [],
   "source": [
    "#Load results into pandaas dataframe\n",
    "\n",
    "df = pd.read_sql_query(query, conn)"
   ]
  },
  {
   "cell_type": "code",
   "execution_count": 17,
   "id": "41bd2faf-383e-4e17-9026-f397391f62f4",
   "metadata": {},
   "outputs": [
    {
     "name": "stdout",
     "output_type": "stream",
     "text": [
      "Sales Summary:\n",
      "       product  total_qty  revenue\n",
      "0   Air fryer         14    210.0\n",
      "1  Coffee mug         24    192.0\n",
      "2      Helmet         12    240.0\n",
      "3      Pillow         20    240.0\n",
      "4     Toaster         10    250.0\n"
     ]
    }
   ],
   "source": [
    "#Print summary\n",
    "\n",
    "print(\"Sales Summary:\\n\", df)"
   ]
  },
  {
   "cell_type": "code",
   "execution_count": 21,
   "id": "3287b3f5-46de-4be0-8108-8f1212f65818",
   "metadata": {},
   "outputs": [
    {
     "name": "stdout",
     "output_type": "stream",
     "text": [
      "\n",
      "Total Quantity Sold: 80\n",
      "Total Revenue: $1132.00\n"
     ]
    }
   ],
   "source": [
    "#Calculate and Print total quantity and total revenue\n",
    "\n",
    "total_qty = df['total_qty'].sum()\n",
    "total_revenue = df['revenue'].sum()\n",
    "print(f\"\\nTotal Quantity Sold: {total_qty}\")\n",
    "print(f\"Total Revenue: ${total_revenue:.2f}\")"
   ]
  },
  {
   "cell_type": "code",
   "execution_count": 19,
   "id": "a65f7dbb-9ff7-414b-a8dd-dae1c503aa43",
   "metadata": {},
   "outputs": [
    {
     "data": {
      "image/png": "[encoded data removed]",
      "text/plain": [
       "<Figure size 640x480 with 1 Axes>"
      ]
     },
     "metadata": {},
     "output_type": "display_data"
    }
   ],
   "source": [
    "#Plot bar chart for revenue and save it\n",
    "\n",
    "df.plot(kind=\"bar\", x=\"product\", y=\"revenue\", legend=False)\n",
    "plt.title(\"Revenue by Product\")\n",
    "plt.ylabel(\"Revenue\")\n",
    "plt.xlabel(\"Product\")\n",
    "plt.tight_layout()\n",
    "plt.savefig(\"sales_chart.png\")  # saves chart\n",
    "plt.show()\n",
    "\n",
    "conn.close()"
   ]
  }
 ],
 "metadata": {
  "kernelspec": {
   "display_name": "Python 3 (ipykernel)",
   "language": "python",
   "name": "python3"
  },
  "language_info": {
   "codemirror_mode": {
    "name": "ipython",
    "version": 3
   },
   "file_extension": ".py",
   "mimetype": "text/x-python",
   "name": "python",
   "nbconvert_exporter": "python",
   "pygments_lexer": "ipython3",
   "version": "3.13.5"
  }
 },
 "nbformat": 4,
 "nbformat_minor": 5
}
